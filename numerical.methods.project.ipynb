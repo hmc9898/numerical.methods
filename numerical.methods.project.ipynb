{
 "cells": [
  {
   "cell_type": "markdown",
   "metadata": {},
   "source": [
    "# Rusty Bargain: Price Prediction For Used Car "
   ]
  },
  {
   "cell_type": "markdown",
   "metadata": {},
   "source": [
    "Rusty Bargain used car sales service is developing an app to attract new customers. In that app, you can quickly find out the market value of your car. You have access to historical data: technical specifications, trim versions, and prices. You need to build the model to determine the value. \n",
    "\n",
    "Rusty Bargain is interested in:\n",
    "\n",
    "- the quality of the prediction;\n",
    "- the speed of the prediction;\n",
    "- the time required for training"
   ]
  },
  {
   "cell_type": "markdown",
   "metadata": {},
   "source": [
    "Rusty Bargain is creating an app that helps users estimate the value of their cars. This project builds a machine learning model to predict car prices using data on vehicle features like brand, model, milage, and condition. Several models are tested such as linear regression, decision tree, and gradient boosting to find the best balance between accuracy, training time, and prediction  speed. Model performace is measured using the RMSE metric.\n",
    "\n",
    "\n",
    "Heather Marie Culligan\n",
    "\n",
    "April 2025"
   ]
  },
  {
   "cell_type": "markdown",
   "metadata": {},
   "source": [
    "## Data preparation"
   ]
  },
  {
   "cell_type": "code",
   "execution_count": 1,
   "metadata": {},
   "outputs": [],
   "source": [
    "import pandas as pd\n",
    "import numpy as np\n",
    "import time\n",
    "import seaborn as sns\n",
    "from matplotlib import pyplot as plt\n",
    "from sklearn.model_selection import train_test_split, RandomizedSearchCV\n",
    "from scipy.stats import randint\n",
    "from sklearn.tree import DecisionTreeRegressor\n",
    "from sklearn.ensemble import RandomForestRegressor\n",
    "from sklearn.linear_model import LinearRegression\n",
    "from sklearn.metrics import mean_squared_error\n",
    "from sklearn.preprocessing import OneHotEncoder\n",
    "from sklearn.utils import resample\n",
    "\n",
    "import lightgbm as lgb"
   ]
  },
  {
   "cell_type": "code",
   "execution_count": 2,
   "metadata": {},
   "outputs": [],
   "source": [
    "df=pd.read_csv('/datasets/car_data.csv')"
   ]
  },
  {
   "cell_type": "code",
   "execution_count": 3,
   "metadata": {},
   "outputs": [
    {
     "data": {
      "text/html": [
       "<div>\n",
       "<style scoped>\n",
       "    .dataframe tbody tr th:only-of-type {\n",
       "        vertical-align: middle;\n",
       "    }\n",
       "\n",
       "    .dataframe tbody tr th {\n",
       "        vertical-align: top;\n",
       "    }\n",
       "\n",
       "    .dataframe thead th {\n",
       "        text-align: right;\n",
       "    }\n",
       "</style>\n",
       "<table border=\"1\" class=\"dataframe\">\n",
       "  <thead>\n",
       "    <tr style=\"text-align: right;\">\n",
       "      <th></th>\n",
       "      <th>DateCrawled</th>\n",
       "      <th>Price</th>\n",
       "      <th>VehicleType</th>\n",
       "      <th>RegistrationYear</th>\n",
       "      <th>Gearbox</th>\n",
       "      <th>Power</th>\n",
       "      <th>Model</th>\n",
       "      <th>Mileage</th>\n",
       "      <th>RegistrationMonth</th>\n",
       "      <th>FuelType</th>\n",
       "      <th>Brand</th>\n",
       "      <th>NotRepaired</th>\n",
       "      <th>DateCreated</th>\n",
       "      <th>NumberOfPictures</th>\n",
       "      <th>PostalCode</th>\n",
       "      <th>LastSeen</th>\n",
       "    </tr>\n",
       "  </thead>\n",
       "  <tbody>\n",
       "    <tr>\n",
       "      <th>338938</th>\n",
       "      <td>01/04/2016 21:56</td>\n",
       "      <td>1990</td>\n",
       "      <td>wagon</td>\n",
       "      <td>2000</td>\n",
       "      <td>manual</td>\n",
       "      <td>150</td>\n",
       "      <td>5er</td>\n",
       "      <td>150000</td>\n",
       "      <td>4</td>\n",
       "      <td>petrol</td>\n",
       "      <td>bmw</td>\n",
       "      <td>no</td>\n",
       "      <td>01/04/2016 00:00</td>\n",
       "      <td>0</td>\n",
       "      <td>16303</td>\n",
       "      <td>03/04/2016 19:47</td>\n",
       "    </tr>\n",
       "    <tr>\n",
       "      <th>349373</th>\n",
       "      <td>07/03/2016 13:55</td>\n",
       "      <td>399</td>\n",
       "      <td>other</td>\n",
       "      <td>1996</td>\n",
       "      <td>manual</td>\n",
       "      <td>64</td>\n",
       "      <td>caddy</td>\n",
       "      <td>150000</td>\n",
       "      <td>9</td>\n",
       "      <td>gasoline</td>\n",
       "      <td>volkswagen</td>\n",
       "      <td>NaN</td>\n",
       "      <td>07/03/2016 00:00</td>\n",
       "      <td>0</td>\n",
       "      <td>26135</td>\n",
       "      <td>08/03/2016 22:46</td>\n",
       "    </tr>\n",
       "    <tr>\n",
       "      <th>171127</th>\n",
       "      <td>12/03/2016 14:45</td>\n",
       "      <td>0</td>\n",
       "      <td>wagon</td>\n",
       "      <td>2006</td>\n",
       "      <td>auto</td>\n",
       "      <td>179</td>\n",
       "      <td>a6</td>\n",
       "      <td>125000</td>\n",
       "      <td>8</td>\n",
       "      <td>gasoline</td>\n",
       "      <td>audi</td>\n",
       "      <td>no</td>\n",
       "      <td>12/03/2016 00:00</td>\n",
       "      <td>0</td>\n",
       "      <td>66663</td>\n",
       "      <td>12/03/2016 14:45</td>\n",
       "    </tr>\n",
       "    <tr>\n",
       "      <th>145450</th>\n",
       "      <td>28/03/2016 15:51</td>\n",
       "      <td>2950</td>\n",
       "      <td>small</td>\n",
       "      <td>2004</td>\n",
       "      <td>manual</td>\n",
       "      <td>69</td>\n",
       "      <td>corsa</td>\n",
       "      <td>125000</td>\n",
       "      <td>10</td>\n",
       "      <td>gasoline</td>\n",
       "      <td>opel</td>\n",
       "      <td>no</td>\n",
       "      <td>28/03/2016 00:00</td>\n",
       "      <td>0</td>\n",
       "      <td>55276</td>\n",
       "      <td>01/04/2016 00:17</td>\n",
       "    </tr>\n",
       "    <tr>\n",
       "      <th>7270</th>\n",
       "      <td>29/03/2016 21:45</td>\n",
       "      <td>3500</td>\n",
       "      <td>bus</td>\n",
       "      <td>2002</td>\n",
       "      <td>manual</td>\n",
       "      <td>136</td>\n",
       "      <td>other</td>\n",
       "      <td>150000</td>\n",
       "      <td>8</td>\n",
       "      <td>gasoline</td>\n",
       "      <td>mazda</td>\n",
       "      <td>no</td>\n",
       "      <td>29/03/2016 00:00</td>\n",
       "      <td>0</td>\n",
       "      <td>21149</td>\n",
       "      <td>06/04/2016 08:15</td>\n",
       "    </tr>\n",
       "    <tr>\n",
       "      <th>185144</th>\n",
       "      <td>11/03/2016 13:55</td>\n",
       "      <td>777</td>\n",
       "      <td>small</td>\n",
       "      <td>1999</td>\n",
       "      <td>manual</td>\n",
       "      <td>54</td>\n",
       "      <td>seicento</td>\n",
       "      <td>150000</td>\n",
       "      <td>7</td>\n",
       "      <td>petrol</td>\n",
       "      <td>fiat</td>\n",
       "      <td>no</td>\n",
       "      <td>11/03/2016 00:00</td>\n",
       "      <td>0</td>\n",
       "      <td>63452</td>\n",
       "      <td>12/03/2016 03:17</td>\n",
       "    </tr>\n",
       "    <tr>\n",
       "      <th>133832</th>\n",
       "      <td>03/04/2016 19:29</td>\n",
       "      <td>2850</td>\n",
       "      <td>wagon</td>\n",
       "      <td>2004</td>\n",
       "      <td>manual</td>\n",
       "      <td>125</td>\n",
       "      <td>c_max</td>\n",
       "      <td>125000</td>\n",
       "      <td>6</td>\n",
       "      <td>petrol</td>\n",
       "      <td>ford</td>\n",
       "      <td>no</td>\n",
       "      <td>03/04/2016 00:00</td>\n",
       "      <td>0</td>\n",
       "      <td>56237</td>\n",
       "      <td>05/04/2016 09:31</td>\n",
       "    </tr>\n",
       "    <tr>\n",
       "      <th>9873</th>\n",
       "      <td>17/03/2016 23:38</td>\n",
       "      <td>2799</td>\n",
       "      <td>NaN</td>\n",
       "      <td>2018</td>\n",
       "      <td>manual</td>\n",
       "      <td>64</td>\n",
       "      <td>polo</td>\n",
       "      <td>150000</td>\n",
       "      <td>3</td>\n",
       "      <td>NaN</td>\n",
       "      <td>volkswagen</td>\n",
       "      <td>NaN</td>\n",
       "      <td>17/03/2016 00:00</td>\n",
       "      <td>0</td>\n",
       "      <td>48153</td>\n",
       "      <td>05/04/2016 20:17</td>\n",
       "    </tr>\n",
       "    <tr>\n",
       "      <th>152007</th>\n",
       "      <td>07/03/2016 12:52</td>\n",
       "      <td>2800</td>\n",
       "      <td>wagon</td>\n",
       "      <td>2003</td>\n",
       "      <td>manual</td>\n",
       "      <td>102</td>\n",
       "      <td>passat</td>\n",
       "      <td>150000</td>\n",
       "      <td>4</td>\n",
       "      <td>petrol</td>\n",
       "      <td>volkswagen</td>\n",
       "      <td>no</td>\n",
       "      <td>07/03/2016 00:00</td>\n",
       "      <td>0</td>\n",
       "      <td>35066</td>\n",
       "      <td>10/03/2016 09:16</td>\n",
       "    </tr>\n",
       "    <tr>\n",
       "      <th>176763</th>\n",
       "      <td>14/03/2016 15:44</td>\n",
       "      <td>1690</td>\n",
       "      <td>small</td>\n",
       "      <td>2000</td>\n",
       "      <td>manual</td>\n",
       "      <td>50</td>\n",
       "      <td>polo</td>\n",
       "      <td>150000</td>\n",
       "      <td>11</td>\n",
       "      <td>petrol</td>\n",
       "      <td>volkswagen</td>\n",
       "      <td>no</td>\n",
       "      <td>14/03/2016 00:00</td>\n",
       "      <td>0</td>\n",
       "      <td>46342</td>\n",
       "      <td>18/03/2016 02:44</td>\n",
       "    </tr>\n",
       "  </tbody>\n",
       "</table>\n",
       "</div>"
      ],
      "text/plain": [
       "             DateCrawled  Price VehicleType  RegistrationYear Gearbox  Power  \\\n",
       "338938  01/04/2016 21:56   1990       wagon              2000  manual    150   \n",
       "349373  07/03/2016 13:55    399       other              1996  manual     64   \n",
       "171127  12/03/2016 14:45      0       wagon              2006    auto    179   \n",
       "145450  28/03/2016 15:51   2950       small              2004  manual     69   \n",
       "7270    29/03/2016 21:45   3500         bus              2002  manual    136   \n",
       "185144  11/03/2016 13:55    777       small              1999  manual     54   \n",
       "133832  03/04/2016 19:29   2850       wagon              2004  manual    125   \n",
       "9873    17/03/2016 23:38   2799         NaN              2018  manual     64   \n",
       "152007  07/03/2016 12:52   2800       wagon              2003  manual    102   \n",
       "176763  14/03/2016 15:44   1690       small              2000  manual     50   \n",
       "\n",
       "           Model  Mileage  RegistrationMonth  FuelType       Brand  \\\n",
       "338938       5er   150000                  4    petrol         bmw   \n",
       "349373     caddy   150000                  9  gasoline  volkswagen   \n",
       "171127        a6   125000                  8  gasoline        audi   \n",
       "145450     corsa   125000                 10  gasoline        opel   \n",
       "7270       other   150000                  8  gasoline       mazda   \n",
       "185144  seicento   150000                  7    petrol        fiat   \n",
       "133832     c_max   125000                  6    petrol        ford   \n",
       "9873        polo   150000                  3       NaN  volkswagen   \n",
       "152007    passat   150000                  4    petrol  volkswagen   \n",
       "176763      polo   150000                 11    petrol  volkswagen   \n",
       "\n",
       "       NotRepaired       DateCreated  NumberOfPictures  PostalCode  \\\n",
       "338938          no  01/04/2016 00:00                 0       16303   \n",
       "349373         NaN  07/03/2016 00:00                 0       26135   \n",
       "171127          no  12/03/2016 00:00                 0       66663   \n",
       "145450          no  28/03/2016 00:00                 0       55276   \n",
       "7270            no  29/03/2016 00:00                 0       21149   \n",
       "185144          no  11/03/2016 00:00                 0       63452   \n",
       "133832          no  03/04/2016 00:00                 0       56237   \n",
       "9873           NaN  17/03/2016 00:00                 0       48153   \n",
       "152007          no  07/03/2016 00:00                 0       35066   \n",
       "176763          no  14/03/2016 00:00                 0       46342   \n",
       "\n",
       "                LastSeen  \n",
       "338938  03/04/2016 19:47  \n",
       "349373  08/03/2016 22:46  \n",
       "171127  12/03/2016 14:45  \n",
       "145450  01/04/2016 00:17  \n",
       "7270    06/04/2016 08:15  \n",
       "185144  12/03/2016 03:17  \n",
       "133832  05/04/2016 09:31  \n",
       "9873    05/04/2016 20:17  \n",
       "152007  10/03/2016 09:16  \n",
       "176763  18/03/2016 02:44  "
      ]
     },
     "execution_count": 3,
     "metadata": {},
     "output_type": "execute_result"
    }
   ],
   "source": [
    "df.sample(10)"
   ]
  },
  {
   "cell_type": "code",
   "execution_count": 4,
   "metadata": {},
   "outputs": [
    {
     "name": "stdout",
     "output_type": "stream",
     "text": [
      "<class 'pandas.core.frame.DataFrame'>\n",
      "RangeIndex: 354369 entries, 0 to 354368\n",
      "Data columns (total 16 columns):\n",
      " #   Column             Non-Null Count   Dtype \n",
      "---  ------             --------------   ----- \n",
      " 0   DateCrawled        354369 non-null  object\n",
      " 1   Price              354369 non-null  int64 \n",
      " 2   VehicleType        316879 non-null  object\n",
      " 3   RegistrationYear   354369 non-null  int64 \n",
      " 4   Gearbox            334536 non-null  object\n",
      " 5   Power              354369 non-null  int64 \n",
      " 6   Model              334664 non-null  object\n",
      " 7   Mileage            354369 non-null  int64 \n",
      " 8   RegistrationMonth  354369 non-null  int64 \n",
      " 9   FuelType           321474 non-null  object\n",
      " 10  Brand              354369 non-null  object\n",
      " 11  NotRepaired        283215 non-null  object\n",
      " 12  DateCreated        354369 non-null  object\n",
      " 13  NumberOfPictures   354369 non-null  int64 \n",
      " 14  PostalCode         354369 non-null  int64 \n",
      " 15  LastSeen           354369 non-null  object\n",
      "dtypes: int64(7), object(9)\n",
      "memory usage: 43.3+ MB\n"
     ]
    }
   ],
   "source": [
    "df.info()"
   ]
  },
  {
   "cell_type": "code",
   "execution_count": 5,
   "metadata": {},
   "outputs": [
    {
     "data": {
      "text/html": [
       "<div>\n",
       "<style scoped>\n",
       "    .dataframe tbody tr th:only-of-type {\n",
       "        vertical-align: middle;\n",
       "    }\n",
       "\n",
       "    .dataframe tbody tr th {\n",
       "        vertical-align: top;\n",
       "    }\n",
       "\n",
       "    .dataframe thead th {\n",
       "        text-align: right;\n",
       "    }\n",
       "</style>\n",
       "<table border=\"1\" class=\"dataframe\">\n",
       "  <thead>\n",
       "    <tr style=\"text-align: right;\">\n",
       "      <th></th>\n",
       "      <th>Price</th>\n",
       "      <th>RegistrationYear</th>\n",
       "      <th>Power</th>\n",
       "      <th>Mileage</th>\n",
       "      <th>RegistrationMonth</th>\n",
       "      <th>NumberOfPictures</th>\n",
       "      <th>PostalCode</th>\n",
       "    </tr>\n",
       "  </thead>\n",
       "  <tbody>\n",
       "    <tr>\n",
       "      <th>count</th>\n",
       "      <td>354369.000000</td>\n",
       "      <td>354369.000000</td>\n",
       "      <td>354369.000000</td>\n",
       "      <td>354369.000000</td>\n",
       "      <td>354369.000000</td>\n",
       "      <td>354369.0</td>\n",
       "      <td>354369.000000</td>\n",
       "    </tr>\n",
       "    <tr>\n",
       "      <th>mean</th>\n",
       "      <td>4416.656776</td>\n",
       "      <td>2004.234448</td>\n",
       "      <td>110.094337</td>\n",
       "      <td>128211.172535</td>\n",
       "      <td>5.714645</td>\n",
       "      <td>0.0</td>\n",
       "      <td>50508.689087</td>\n",
       "    </tr>\n",
       "    <tr>\n",
       "      <th>std</th>\n",
       "      <td>4514.158514</td>\n",
       "      <td>90.227958</td>\n",
       "      <td>189.850405</td>\n",
       "      <td>37905.341530</td>\n",
       "      <td>3.726421</td>\n",
       "      <td>0.0</td>\n",
       "      <td>25783.096248</td>\n",
       "    </tr>\n",
       "    <tr>\n",
       "      <th>min</th>\n",
       "      <td>0.000000</td>\n",
       "      <td>1000.000000</td>\n",
       "      <td>0.000000</td>\n",
       "      <td>5000.000000</td>\n",
       "      <td>0.000000</td>\n",
       "      <td>0.0</td>\n",
       "      <td>1067.000000</td>\n",
       "    </tr>\n",
       "    <tr>\n",
       "      <th>25%</th>\n",
       "      <td>1050.000000</td>\n",
       "      <td>1999.000000</td>\n",
       "      <td>69.000000</td>\n",
       "      <td>125000.000000</td>\n",
       "      <td>3.000000</td>\n",
       "      <td>0.0</td>\n",
       "      <td>30165.000000</td>\n",
       "    </tr>\n",
       "    <tr>\n",
       "      <th>50%</th>\n",
       "      <td>2700.000000</td>\n",
       "      <td>2003.000000</td>\n",
       "      <td>105.000000</td>\n",
       "      <td>150000.000000</td>\n",
       "      <td>6.000000</td>\n",
       "      <td>0.0</td>\n",
       "      <td>49413.000000</td>\n",
       "    </tr>\n",
       "    <tr>\n",
       "      <th>75%</th>\n",
       "      <td>6400.000000</td>\n",
       "      <td>2008.000000</td>\n",
       "      <td>143.000000</td>\n",
       "      <td>150000.000000</td>\n",
       "      <td>9.000000</td>\n",
       "      <td>0.0</td>\n",
       "      <td>71083.000000</td>\n",
       "    </tr>\n",
       "    <tr>\n",
       "      <th>max</th>\n",
       "      <td>20000.000000</td>\n",
       "      <td>9999.000000</td>\n",
       "      <td>20000.000000</td>\n",
       "      <td>150000.000000</td>\n",
       "      <td>12.000000</td>\n",
       "      <td>0.0</td>\n",
       "      <td>99998.000000</td>\n",
       "    </tr>\n",
       "  </tbody>\n",
       "</table>\n",
       "</div>"
      ],
      "text/plain": [
       "               Price  RegistrationYear          Power        Mileage  \\\n",
       "count  354369.000000     354369.000000  354369.000000  354369.000000   \n",
       "mean     4416.656776       2004.234448     110.094337  128211.172535   \n",
       "std      4514.158514         90.227958     189.850405   37905.341530   \n",
       "min         0.000000       1000.000000       0.000000    5000.000000   \n",
       "25%      1050.000000       1999.000000      69.000000  125000.000000   \n",
       "50%      2700.000000       2003.000000     105.000000  150000.000000   \n",
       "75%      6400.000000       2008.000000     143.000000  150000.000000   \n",
       "max     20000.000000       9999.000000   20000.000000  150000.000000   \n",
       "\n",
       "       RegistrationMonth  NumberOfPictures     PostalCode  \n",
       "count      354369.000000          354369.0  354369.000000  \n",
       "mean            5.714645               0.0   50508.689087  \n",
       "std             3.726421               0.0   25783.096248  \n",
       "min             0.000000               0.0    1067.000000  \n",
       "25%             3.000000               0.0   30165.000000  \n",
       "50%             6.000000               0.0   49413.000000  \n",
       "75%             9.000000               0.0   71083.000000  \n",
       "max            12.000000               0.0   99998.000000  "
      ]
     },
     "execution_count": 5,
     "metadata": {},
     "output_type": "execute_result"
    }
   ],
   "source": [
    "df.describe()"
   ]
  },
  {
   "cell_type": "code",
   "execution_count": 6,
   "metadata": {},
   "outputs": [
    {
     "data": {
      "text/plain": [
       "262"
      ]
     },
     "execution_count": 6,
     "metadata": {},
     "output_type": "execute_result"
    }
   ],
   "source": [
    "df.duplicated().sum()"
   ]
  },
  {
   "cell_type": "code",
   "execution_count": 7,
   "metadata": {},
   "outputs": [],
   "source": [
    "df= df.drop_duplicates()"
   ]
  },
  {
   "cell_type": "code",
   "execution_count": 8,
   "metadata": {
    "scrolled": true
   },
   "outputs": [
    {
     "data": {
      "text/plain": [
       "0"
      ]
     },
     "execution_count": 8,
     "metadata": {},
     "output_type": "execute_result"
    }
   ],
   "source": [
    "df.duplicated().sum()"
   ]
  },
  {
   "cell_type": "code",
   "execution_count": 9,
   "metadata": {},
   "outputs": [
    {
     "data": {
      "text/plain": [
       "DateCrawled              0\n",
       "Price                    0\n",
       "VehicleType          37484\n",
       "RegistrationYear         0\n",
       "Gearbox              19830\n",
       "Power                    0\n",
       "Model                19701\n",
       "Mileage                  0\n",
       "RegistrationMonth        0\n",
       "FuelType             32889\n",
       "Brand                    0\n",
       "NotRepaired          71145\n",
       "DateCreated              0\n",
       "NumberOfPictures         0\n",
       "PostalCode               0\n",
       "LastSeen                 0\n",
       "dtype: int64"
      ]
     },
     "execution_count": 9,
     "metadata": {},
     "output_type": "execute_result"
    }
   ],
   "source": [
    "df.isnull().sum()"
   ]
  },
  {
   "cell_type": "code",
   "execution_count": 10,
   "metadata": {},
   "outputs": [],
   "source": [
    "catcols = ['VehicleType', 'Gearbox', 'Model', 'FuelType', 'NotRepaired']\n",
    "for col in catcols:\n",
    "    df[col] = df[col].fillna('unknown')"
   ]
  },
  {
   "cell_type": "code",
   "execution_count": 11,
   "metadata": {},
   "outputs": [],
   "source": [
    "df['Power'] = df['Power'].astype('Int64').astype(str)\n",
    "df['Power'] = df['Power'].replace('<NA>', 'Unknown')"
   ]
  },
  {
   "cell_type": "code",
   "execution_count": 12,
   "metadata": {},
   "outputs": [
    {
     "data": {
      "text/plain": [
       "DateCrawled          0\n",
       "Price                0\n",
       "VehicleType          0\n",
       "RegistrationYear     0\n",
       "Gearbox              0\n",
       "Power                0\n",
       "Model                0\n",
       "Mileage              0\n",
       "RegistrationMonth    0\n",
       "FuelType             0\n",
       "Brand                0\n",
       "NotRepaired          0\n",
       "DateCreated          0\n",
       "NumberOfPictures     0\n",
       "PostalCode           0\n",
       "LastSeen             0\n",
       "dtype: int64"
      ]
     },
     "execution_count": 12,
     "metadata": {},
     "output_type": "execute_result"
    }
   ],
   "source": [
    "df.isnull().sum()"
   ]
  },
  {
   "cell_type": "code",
   "execution_count": 13,
   "metadata": {},
   "outputs": [],
   "source": [
    "#lets remove some outliers\n",
    "df = df[(df['Price'] >= 100) & (df['Price'] <= 100000)]\n",
    "df = df[pd.to_numeric(df['Power'], errors='coerce').between(10, 1000)]\n",
    "df = df[(df['RegistrationYear'] >= 1900) & (df['RegistrationYear'] <= 2025)]"
   ]
  },
  {
   "cell_type": "code",
   "execution_count": 14,
   "metadata": {},
   "outputs": [
    {
     "name": "stdout",
     "output_type": "stream",
     "text": [
      "               Price  RegistrationYear\n",
      "count  305228.000000     305228.000000\n",
      "mean     4831.281514       2003.314945\n",
      "std      4587.369758          6.939961\n",
      "min       100.000000       1910.000000\n",
      "25%      1350.000000       1999.000000\n",
      "50%      3150.000000       2003.000000\n",
      "75%      6980.000000       2008.000000\n",
      "max     20000.000000       2019.000000\n",
      "             DateCrawled RegistrationYear\n",
      "count             305228           305228\n",
      "unique             15208               92\n",
      "top     05/03/2016 14:25             1999\n",
      "freq                  60            19446\n"
     ]
    }
   ],
   "source": [
    "print(df[['Price', 'Power', 'RegistrationYear']].describe())\n",
    "\n",
    "print(df[['DateCrawled', 'RegistrationYear']].astype(str).describe())"
   ]
  },
  {
   "cell_type": "code",
   "execution_count": 15,
   "metadata": {},
   "outputs": [
    {
     "data": {
      "image/png": "[encoded data removed]",
      "text/plain": [
       "<Figure size 1000x400 with 1 Axes>"
      ]
     },
     "metadata": {},
     "output_type": "display_data"
    }
   ],
   "source": [
    "plt.figure(figsize=(10, 4))\n",
    "sns.histplot(df['RegistrationYear'], bins=30, kde=False)\n",
    "plt.title('Distribution of Registration Year')\n",
    "plt.xlabel('Year')\n",
    "plt.ylabel('Count')\n",
    "plt.show()"
   ]
  },
  {
   "cell_type": "code",
   "execution_count": 16,
   "metadata": {},
   "outputs": [
    {
     "name": "stdout",
     "output_type": "stream",
     "text": [
      "Max Registration Year: 2019\n",
      "Max Crawl Year: 2016\n",
      "Number of vehicles registered after data was crawled: 10228\n"
     ]
    }
   ],
   "source": [
    "df['DateCrawled'] = pd.to_datetime(df['DateCrawled'], errors='coerce')\n",
    "\n",
    "max_reg_year = df['RegistrationYear'].max()\n",
    "max_crawl_year = df['DateCrawled'].dt.year.max()\n",
    "\n",
    "print(f\"Max Registration Year: {max_reg_year}\")\n",
    "print(f\"Max Crawl Year: {max_crawl_year}\")\n",
    "\n",
    "# Identify inconsistent records\n",
    "invalid_registrations = df[df['RegistrationYear'] > df['DateCrawled'].dt.year]\n",
    "\n",
    "print(f\"Number of vehicles registered after data was crawled: {len(invalid_registrations)}\")"
   ]
  },
  {
   "cell_type": "code",
   "execution_count": 17,
   "metadata": {},
   "outputs": [],
   "source": [
    "df = df.drop(columns=[\n",
    "    'DateCrawled', 'LastSeen', 'NumberOfPictures', 'PostalCode', 'RegistrationMonth', 'RegistrationYear'\n",
    "])"
   ]
  },
  {
   "cell_type": "code",
   "execution_count": 18,
   "metadata": {
    "scrolled": false
   },
   "outputs": [
    {
     "name": "stdout",
     "output_type": "stream",
     "text": [
      "<class 'pandas.core.frame.DataFrame'>\n",
      "Int64Index: 305228 entries, 1 to 354368\n",
      "Data columns (total 10 columns):\n",
      " #   Column       Non-Null Count   Dtype \n",
      "---  ------       --------------   ----- \n",
      " 0   Price        305228 non-null  int64 \n",
      " 1   VehicleType  305228 non-null  object\n",
      " 2   Gearbox      305228 non-null  object\n",
      " 3   Power        305228 non-null  object\n",
      " 4   Model        305228 non-null  object\n",
      " 5   Mileage      305228 non-null  int64 \n",
      " 6   FuelType     305228 non-null  object\n",
      " 7   Brand        305228 non-null  object\n",
      " 8   NotRepaired  305228 non-null  object\n",
      " 9   DateCreated  305228 non-null  object\n",
      "dtypes: int64(2), object(8)\n",
      "memory usage: 25.6+ MB\n"
     ]
    },
    {
     "data": {
      "text/html": [
       "<div>\n",
       "<style scoped>\n",
       "    .dataframe tbody tr th:only-of-type {\n",
       "        vertical-align: middle;\n",
       "    }\n",
       "\n",
       "    .dataframe tbody tr th {\n",
       "        vertical-align: top;\n",
       "    }\n",
       "\n",
       "    .dataframe thead th {\n",
       "        text-align: right;\n",
       "    }\n",
       "</style>\n",
       "<table border=\"1\" class=\"dataframe\">\n",
       "  <thead>\n",
       "    <tr style=\"text-align: right;\">\n",
       "      <th></th>\n",
       "      <th>Price</th>\n",
       "      <th>Mileage</th>\n",
       "    </tr>\n",
       "  </thead>\n",
       "  <tbody>\n",
       "    <tr>\n",
       "      <th>count</th>\n",
       "      <td>305228.000000</td>\n",
       "      <td>305228.000000</td>\n",
       "    </tr>\n",
       "    <tr>\n",
       "      <th>mean</th>\n",
       "      <td>4831.281514</td>\n",
       "      <td>128464.213637</td>\n",
       "    </tr>\n",
       "    <tr>\n",
       "      <th>std</th>\n",
       "      <td>4587.369758</td>\n",
       "      <td>36645.850955</td>\n",
       "    </tr>\n",
       "    <tr>\n",
       "      <th>min</th>\n",
       "      <td>100.000000</td>\n",
       "      <td>5000.000000</td>\n",
       "    </tr>\n",
       "    <tr>\n",
       "      <th>25%</th>\n",
       "      <td>1350.000000</td>\n",
       "      <td>125000.000000</td>\n",
       "    </tr>\n",
       "    <tr>\n",
       "      <th>50%</th>\n",
       "      <td>3150.000000</td>\n",
       "      <td>150000.000000</td>\n",
       "    </tr>\n",
       "    <tr>\n",
       "      <th>75%</th>\n",
       "      <td>6980.000000</td>\n",
       "      <td>150000.000000</td>\n",
       "    </tr>\n",
       "    <tr>\n",
       "      <th>max</th>\n",
       "      <td>20000.000000</td>\n",
       "      <td>150000.000000</td>\n",
       "    </tr>\n",
       "  </tbody>\n",
       "</table>\n",
       "</div>"
      ],
      "text/plain": [
       "               Price        Mileage\n",
       "count  305228.000000  305228.000000\n",
       "mean     4831.281514  128464.213637\n",
       "std      4587.369758   36645.850955\n",
       "min       100.000000    5000.000000\n",
       "25%      1350.000000  125000.000000\n",
       "50%      3150.000000  150000.000000\n",
       "75%      6980.000000  150000.000000\n",
       "max     20000.000000  150000.000000"
      ]
     },
     "execution_count": 18,
     "metadata": {},
     "output_type": "execute_result"
    }
   ],
   "source": [
    "df.info()\n",
    "df.describe()"
   ]
  },
  {
   "cell_type": "code",
   "execution_count": 19,
   "metadata": {},
   "outputs": [
    {
     "data": {
      "text/plain": [
       "14336"
      ]
     },
     "execution_count": 19,
     "metadata": {},
     "output_type": "execute_result"
    }
   ],
   "source": [
    "df.duplicated().sum()"
   ]
  },
  {
   "cell_type": "code",
   "execution_count": 20,
   "metadata": {},
   "outputs": [],
   "source": [
    "df = df.drop_duplicates()"
   ]
  },
  {
   "cell_type": "code",
   "execution_count": 21,
   "metadata": {},
   "outputs": [],
   "source": [
    "df_train, df_val = train_test_split(df, test_size=0.2, random_state=42)\n",
    "\n",
    "encoder = OneHotEncoder(handle_unknown='ignore', sparse=False)\n",
    "\n",
    "encoded_train = encoder.fit_transform(df_train[['FuelType']])\n",
    "encoded_val = encoder.transform(df_val[['FuelType']])\n",
    "\n",
    "fuel_cols = encoder.get_feature_names(['FuelType'])\n",
    "df_train_encoded = pd.DataFrame(encoded_train, columns=fuel_cols, index=df_train.index)\n",
    "df_val_encoded = pd.DataFrame(encoded_val, columns=fuel_cols, index=df_val.index)\n",
    "\n",
    "df_train = df_train.drop(columns='FuelType').join(df_train_encoded)\n",
    "df_val = df_val.drop(columns='FuelType').join(df_val_encoded)"
   ]
  },
  {
   "cell_type": "markdown",
   "metadata": {},
   "source": [
    "We cleaned and prepared the dataset by removing irrelevant columns, handling missing values, and dropping duplicates. Categorical values were standardized (e.g., combining \"gasoline\" and \"petrol\"), and rare categories were removed to prevent issues during encoding. We also made sure that training and validation sets have consistent features after encoding. The dataset is now ready for modeling."
   ]
  },
  {
   "cell_type": "markdown",
   "metadata": {},
   "source": [
    "## Model training"
   ]
  },
  {
   "cell_type": "code",
   "execution_count": 22,
   "metadata": {},
   "outputs": [
    {
     "name": "stdout",
     "output_type": "stream",
     "text": [
      "Train: (174535, 85)\n",
      "Validation: (43634, 85)\n",
      "Test: (72723, 85)\n",
      "CPU times: user 737 ms, sys: 420 ms, total: 1.16 s\n",
      "Wall time: 1.16 s\n"
     ]
    }
   ],
   "source": [
    "%%time\n",
    "\n",
    "#train_test_split\n",
    "\n",
    "df_model = df.copy()\n",
    "\n",
    "target = 'Price'\n",
    "features = df_model.drop(columns=[target])\n",
    "target_data = df_model[target]\n",
    "\n",
    "#Split 25% as the final test set (never touched during tuning)\n",
    "X_temp, X_test, y_temp, y_test = train_test_split(\n",
    "    features, target_data, test_size=0.25, random_state=42\n",
    ")\n",
    "\n",
    "#Split remaining 75% into training (60%) and validation (15%)\n",
    "X_train, X_val, y_train, y_val = train_test_split(\n",
    "    X_temp, y_temp, test_size=0.2, random_state=42  # 0.2 of 75% = 15%\n",
    ")\n",
    "\n",
    "X_train = X_train.copy()\n",
    "X_val = X_val.copy()\n",
    "X_test = X_test.copy()\n",
    "\n",
    "for col in ['Model']:\n",
    "    top = X_train[col].value_counts().nlargest(20).index\n",
    "    for df_ in [X_train, X_val, X_test]:\n",
    "        df_.loc[:, col] = df_[col].where(df_[col].isin(top), 'other')\n",
    "\n",
    "cat_features = ['VehicleType', 'Gearbox', 'Model', 'FuelType', 'Brand', 'NotRepaired']\n",
    "num_features = ['Power', 'Mileage']\n",
    "\n",
    "encoder = OneHotEncoder(handle_unknown='ignore', sparse=False)\n",
    "encoder.fit(X_train[cat_features])\n",
    "\n",
    "X_train_cat = encoder.transform(X_train[cat_features])\n",
    "X_val_cat = encoder.transform(X_val[cat_features])\n",
    "X_test_cat = encoder.transform(X_test[cat_features])\n",
    "\n",
    "X_train_num = X_train[num_features].to_numpy()\n",
    "X_val_num = X_val[num_features].to_numpy()\n",
    "X_test_num = X_test[num_features].to_numpy()\n",
    "\n",
    "X_train_final = np.hstack((X_train_num, X_train_cat))\n",
    "X_val_final = np.hstack((X_val_num, X_val_cat))\n",
    "X_test_final = np.hstack((X_test_num, X_test_cat))\n",
    "\n",
    "print(\"Train:\", X_train_final.shape)\n",
    "print(\"Validation:\", X_val_final.shape)\n",
    "print(\"Test:\", X_test_final.shape)"
   ]
  },
  {
   "cell_type": "code",
   "execution_count": 23,
   "metadata": {},
   "outputs": [
    {
     "name": "stdout",
     "output_type": "stream",
     "text": [
      "Validation RMSE (Linear Regression): 2986.76\n",
      "Training time (sec): 1.8\n",
      "Prediction time (sec): 0.27\n",
      "CPU times: user 1.46 s, sys: 604 ms, total: 2.07 s\n",
      "Wall time: 2.07 s\n"
     ]
    }
   ],
   "source": [
    "%%time \n",
    "\n",
    "# LinearRegression\n",
    "lr_model = LinearRegression()\n",
    "\n",
    "start_train = time.time()\n",
    "lr_model.fit(X_train_final, y_train)\n",
    "end_train = time.time()\n",
    "\n",
    "start_pred = time.time()\n",
    "y_pred_lr_val = lr_model.predict(X_val_final)\n",
    "end_pred = time.time()\n",
    "\n",
    "rmse_lr_val = mean_squared_error(y_val, y_pred_lr_val, squared=False)\n",
    "\n",
    "print(\"Validation RMSE (Linear Regression):\", round(rmse_lr_val, 2))\n",
    "print(\"Training time (sec):\", round(end_train - start_train, 2))\n",
    "print(\"Prediction time (sec):\", round(end_pred - start_pred, 2))"
   ]
  },
  {
   "cell_type": "code",
   "execution_count": 24,
   "metadata": {},
   "outputs": [
    {
     "name": "stdout",
     "output_type": "stream",
     "text": [
      "--- Decision Tree Comparison (Validation) ---\n",
      "Model 1 - max_depth=5\n",
      "  Validation RMSE: 2962.48\n",
      "  Training time: 0.88 sec\n",
      "  Prediction time: 0.09 sec\n",
      "\n",
      "Model 2 - max_depth=20\n",
      "  Validation RMSE: 2444.94\n",
      "  Training time: 1.22 sec\n",
      "  Prediction time: 0.09 sec\n",
      "CPU times: user 2.18 s, sys: 87.7 ms, total: 2.26 s\n",
      "Wall time: 2.28 s\n"
     ]
    }
   ],
   "source": [
    "%%time\n",
    "\n",
    "# DecisionTree with max_depth=5\n",
    "dt_model_1 = DecisionTreeRegressor(max_depth=5, random_state=42)\n",
    "\n",
    "start_train_1 = time.time()\n",
    "dt_model_1.fit(X_train_final, y_train)\n",
    "end_train_1 = time.time()\n",
    "\n",
    "start_pred_1 = time.time()\n",
    "y_pred_dt_1_val = dt_model_1.predict(X_val_final)\n",
    "end_pred_1 = time.time()\n",
    "\n",
    "rmse_dt_1_val = mean_squared_error(y_val, y_pred_dt_1_val, squared=False)\n",
    "\n",
    "# DecisionTree with max_depth=20\n",
    "dt_model_2 = DecisionTreeRegressor(max_depth=20, random_state=42)\n",
    "\n",
    "start_train_2 = time.time()\n",
    "dt_model_2.fit(X_train_final, y_train)\n",
    "end_train_2 = time.time()\n",
    "\n",
    "start_pred_2 = time.time()\n",
    "y_pred_dt_2_val = dt_model_2.predict(X_val_final)\n",
    "end_pred_2 = time.time()\n",
    "\n",
    "rmse_dt_2_val = mean_squared_error(y_val, y_pred_dt_2_val, squared=False)\n",
    "\n",
    "print(\"--- Decision Tree Comparison (Validation) ---\")\n",
    "print(\"Model 1 - max_depth=5\")\n",
    "print(\"  Validation RMSE:\", round(rmse_dt_1_val, 2))\n",
    "print(\"  Training time:\", round(end_train_1 - start_train_1, 2), \"sec\")\n",
    "print(\"  Prediction time:\", round(end_pred_1 - start_pred_1, 2), \"sec\")\n",
    "\n",
    "print(\"\\nModel 2 - max_depth=20\")\n",
    "print(\"  Validation RMSE:\", round(rmse_dt_2_val, 2))\n",
    "print(\"  Training time:\", round(end_train_2 - start_train_2, 2), \"sec\")\n",
    "print(\"  Prediction time:\", round(end_pred_2 - start_pred_2, 2), \"sec\")"
   ]
  },
  {
   "cell_type": "code",
   "execution_count": 25,
   "metadata": {},
   "outputs": [
    {
     "name": "stdout",
     "output_type": "stream",
     "text": [
      "Fitting 3 folds for each of 10 candidates, totalling 30 fits\n",
      "Best Decision Tree RMSE on validation: 2342.02\n",
      "Best hyperparameters: {'max_depth': None, 'min_samples_leaf': 4, 'min_samples_split': 10}\n"
     ]
    }
   ],
   "source": [
    "param_dist = {\n",
    "    'max_depth': [5, 10, 15, 20, None],\n",
    "    'min_samples_split': randint(2, 11),\n",
    "    'min_samples_leaf': randint(1, 5)\n",
    "}\n",
    "\n",
    "dt = DecisionTreeRegressor(random_state=42)\n",
    "\n",
    "rand_search = RandomizedSearchCV(\n",
    "    estimator=dt,\n",
    "    param_distributions=param_dist,\n",
    "    n_iter=10,  \n",
    "    cv=3,\n",
    "    scoring='neg_root_mean_squared_error',\n",
    "    random_state=42,\n",
    "    verbose=1\n",
    ")\n",
    "\n",
    "rand_search.fit(X_train_final, y_train)\n",
    "\n",
    "best_dt = rand_search.best_estimator_\n",
    "y_val_pred = best_dt.predict(X_val_final)\n",
    "rmse_dt_val = mean_squared_error(y_val, y_val_pred, squared=False)\n",
    "\n",
    "print(\"Best Decision Tree RMSE on validation:\", round(rmse_dt_val, 2))\n",
    "print(\"Best hyperparameters:\", rand_search.best_params_)"
   ]
  },
  {
   "cell_type": "code",
   "execution_count": 26,
   "metadata": {},
   "outputs": [
    {
     "name": "stdout",
     "output_type": "stream",
     "text": [
      "--- Random Forest Comparison (Validation) ---\n",
      "Model 1 - 50 trees, max_depth=5\n",
      "  Validation RMSE: 2927.72\n",
      "  Training time: 12.52 sec\n",
      "  Prediction time: 0.16 sec\n",
      "\n",
      "Model 2 - 100 trees, max_depth=20\n",
      "  Validation RMSE: 2191.4\n",
      "  Training time: 55.06 sec\n",
      "  Prediction time: 0.75 sec\n",
      "CPU times: user 1min 6s, sys: 1.51 s, total: 1min 8s\n",
      "Wall time: 1min 8s\n"
     ]
    }
   ],
   "source": [
    "%%time\n",
    "\n",
    "# RandomForest Model 1\n",
    "rf_model_1 = RandomForestRegressor(n_estimators=50, max_depth=5, random_state=42, n_jobs=1)\n",
    "start_train_1 = time.time()\n",
    "rf_model_1.fit(X_train_final, y_train)\n",
    "end_train_1 = time.time()\n",
    "\n",
    "start_pred_1 = time.time()\n",
    "y_pred_rf_1_val = rf_model_1.predict(X_val_final)\n",
    "end_pred_1 = time.time()\n",
    "\n",
    "rmse_rf_1_val = mean_squared_error(y_val, y_pred_rf_1_val, squared=False)  \n",
    "\n",
    "# RandomForest Model 2\n",
    "rf_model_2 = RandomForestRegressor(n_estimators=100, max_depth=20, random_state=42, n_jobs=1)\n",
    "start_train_2 = time.time()\n",
    "rf_model_2.fit(X_train_final, y_train)\n",
    "end_train_2 = time.time()\n",
    "\n",
    "start_pred_2 = time.time()\n",
    "y_pred_rf_2_val = rf_model_2.predict(X_val_final)\n",
    "end_pred_2 = time.time()\n",
    "\n",
    "rmse_rf_2_val = mean_squared_error(y_val, y_pred_rf_2_val, squared=False)\n",
    "\n",
    "print(\"--- Random Forest Comparison (Validation) ---\")\n",
    "print(\"Model 1 - 50 trees, max_depth=5\")\n",
    "print(\"  Validation RMSE:\", round(rmse_rf_1_val, 2))\n",
    "print(\"  Training time:\", round(end_train_1 - start_train_1, 2), \"sec\")\n",
    "print(\"  Prediction time:\", round(end_pred_1 - start_pred_1, 2), \"sec\")\n",
    "\n",
    "print(\"\\nModel 2 - 100 trees, max_depth=20\")\n",
    "print(\"  Validation RMSE:\", round(rmse_rf_2_val, 2))\n",
    "print(\"  Training time:\", round(end_train_2 - start_train_2, 2), \"sec\")\n",
    "print(\"  Prediction time:\", round(end_pred_2 - start_pred_2, 2), \"sec\")"
   ]
  },
  {
   "cell_type": "code",
   "execution_count": 27,
   "metadata": {},
   "outputs": [
    {
     "name": "stdout",
     "output_type": "stream",
     "text": [
      "--- LightGBM Comparison (Validation) ---\n",
      "Model 1 - lr=0.1, depth=5, leaves=31\n",
      "  Validation RMSE: 2492.74\n",
      "  Training time: 1.99 sec\n",
      "  Prediction time: 0.3 sec\n",
      "\n",
      "Model 2 - lr=0.05, depth=10, leaves=64\n",
      "  Validation RMSE: 2407.83\n",
      "  Training time: 2.19 sec\n",
      "  Prediction time: 0.32 sec\n",
      "CPU times: user 4.74 s, sys: 146 ms, total: 4.89 s\n",
      "Wall time: 4.88 s\n"
     ]
    }
   ],
   "source": [
    "%%time\n",
    "\n",
    "# LightGBM Model 1\n",
    "params_1 = {\n",
    "    'objective': 'regression',\n",
    "    'metric': 'rmse',\n",
    "    'learning_rate': 0.1,\n",
    "    'num_leaves': 31,\n",
    "    'max_depth': 5,\n",
    "    'verbosity': -1,\n",
    "    'random_state': 42\n",
    "}\n",
    "train_data = lgb.Dataset(X_train_final, label=y_train)\n",
    "\n",
    "start_train_1 = time.time()\n",
    "lgb_model_1 = lgb.train(params_1, train_data, num_boost_round=100)\n",
    "end_train_1 = time.time()\n",
    "\n",
    "start_pred_1 = time.time()\n",
    "y_pred_lgb_1_val = lgb_model_1.predict(X_val_final)\n",
    "end_pred_1 = time.time()\n",
    "\n",
    "rmse_lgb_1_val = mean_squared_error(y_val, y_pred_lgb_1_val, squared=False)  # <-- Use y_val and correct variable\n",
    "\n",
    "# LightGBM Model 2\n",
    "params_2 = {\n",
    "    'objective': 'regression',\n",
    "    'metric': 'rmse',\n",
    "    'learning_rate': 0.05,\n",
    "    'num_leaves': 64,\n",
    "    'max_depth': 10,\n",
    "    'verbosity': -1,\n",
    "    'random_state': 42\n",
    "}\n",
    "start_train_2 = time.time()\n",
    "lgb_model_2 = lgb.train(params_2, train_data, num_boost_round=100)\n",
    "end_train_2 = time.time()\n",
    "\n",
    "start_pred_2 = time.time()\n",
    "y_pred_lgb_2_val = lgb_model_2.predict(X_val_final)\n",
    "end_pred_2 = time.time()\n",
    "\n",
    "rmse_lgb_2_val = mean_squared_error(y_val, y_pred_lgb_2_val, squared=False)  # <-- Use y_val and correct variable\n",
    "\n",
    "print(\"--- LightGBM Comparison (Validation) ---\")\n",
    "print(\"Model 1 - lr=0.1, depth=5, leaves=31\")\n",
    "print(\"  Validation RMSE:\", round(rmse_lgb_1_val, 2))\n",
    "print(\"  Training time:\", round(end_train_1 - start_train_1, 2), \"sec\")\n",
    "print(\"  Prediction time:\", round(end_pred_1 - start_pred_1, 2), \"sec\")\n",
    "\n",
    "print(\"\\nModel 2 - lr=0.05, depth=10, leaves=64\")\n",
    "print(\"  Validation RMSE:\", round(rmse_lgb_2_val, 2))\n",
    "print(\"  Training time:\", round(end_train_2 - start_train_2, 2), \"sec\")\n",
    "print(\"  Prediction time:\", round(end_pred_2 - start_pred_2, 2), \"sec\")"
   ]
  },
  {
   "cell_type": "code",
   "execution_count": 28,
   "metadata": {},
   "outputs": [
    {
     "name": "stdout",
     "output_type": "stream",
     "text": [
      "LightGBM Validation RMSE: 2391.22\n"
     ]
    }
   ],
   "source": [
    "lgb_model = lgb.LGBMRegressor(random_state=42)\n",
    "lgb_model.fit(X_train_final, y_train)\n",
    "\n",
    "y_val_pred = lgb_model.predict(X_val_final)\n",
    "rmse_lgb_val = mean_squared_error(y_val, y_val_pred, squared=False)\n",
    "print(\"LightGBM Validation RMSE:\", round(rmse_lgb_val, 2))"
   ]
  },
  {
   "cell_type": "code",
   "execution_count": 29,
   "metadata": {},
   "outputs": [
    {
     "name": "stdout",
     "output_type": "stream",
     "text": [
      "Final Test RMSE (Random Forest): 2188.27\n"
     ]
    }
   ],
   "source": [
    "best_rf_model = rf_model_2\n",
    "best_rf_model.fit(X_train_final, y_train)  \n",
    "\n",
    "y_test_pred = best_rf_model.predict(X_test_final)\n",
    "rmse_test = mean_squared_error(y_test, y_test_pred, squared=False)\n",
    "\n",
    "print(\"Final Test RMSE (Random Forest):\", round(rmse_test, 2))"
   ]
  },
  {
   "cell_type": "markdown",
   "metadata": {},
   "source": [
    "Several models were tested to predict used car prices. Random Forest had the best performance on the validation set with an RMSE of 2188.27, beating Linear Regression, Decision Tree, and LightGBM. To avoid bias, only the Random Forest model was tested on the final test set. This confirms it as the most effective model for the task."
   ]
  },
  {
   "cell_type": "markdown",
   "metadata": {},
   "source": [
    "## Model analysis"
   ]
  },
  {
   "cell_type": "markdown",
   "metadata": {},
   "source": [
    "Several models were tested to predict used car prices, including Linear Regression, Decision Tree, Random Forest, and LightGBM. Linear Regression had the highest error, while Decision Tree performed slightly better. LightGBM offered fast predictions and good accuracy, but Random Forest achieved the best validation performance with an RMSE of 2188.27. To ensure a fair comparison, only this top-performing model was evaluated on the test set. This confirmed Random Forest as the most effective and reliable model for this task."
   ]
  },
  {
   "cell_type": "markdown",
   "metadata": {},
   "source": [
    "This project focused on building a machine learning model to predict used car prices. The dataset was cleaned, missing values were handled, and categorical features were properly encoded. The data was split into training, validation, and test sets to support unbiased model evaluation. After comparing several models using RMSE on the validation set, Random Forest was selected as the best. Testing this final model confirmed its strong generalization ability, making it the most suitable choice for deployment."
   ]
  }
 ],
 "metadata": {
  "ExecuteTimeLog": [
   {
    "duration": 877,
    "start_time": "2025-04-17T20:46:54.272Z"
   },
   {
    "duration": 772,
    "start_time": "2025-04-17T20:47:33.721Z"
   },
   {
    "duration": 590,
    "start_time": "2025-04-17T20:47:38.529Z"
   },
   {
    "duration": 21,
    "start_time": "2025-04-17T20:48:43.520Z"
   },
   {
    "duration": 22,
    "start_time": "2025-04-17T20:48:50.368Z"
   },
   {
    "duration": 115,
    "start_time": "2025-04-17T21:09:35.573Z"
   },
   {
    "duration": 62,
    "start_time": "2025-04-17T21:10:33.381Z"
   },
   {
    "duration": 13,
    "start_time": "2025-04-17T21:10:47.996Z"
   },
   {
    "duration": 275,
    "start_time": "2025-04-17T21:11:00.573Z"
   },
   {
    "duration": 108,
    "start_time": "2025-04-17T21:11:22.224Z"
   },
   {
    "duration": 18,
    "start_time": "2025-04-17T21:13:30.124Z"
   },
   {
    "duration": 19,
    "start_time": "2025-04-17T21:13:50.830Z"
   },
   {
    "duration": 291,
    "start_time": "2025-04-17T21:14:11.408Z"
   },
   {
    "duration": 279,
    "start_time": "2025-04-17T21:14:39.117Z"
   },
   {
    "duration": 11,
    "start_time": "2025-04-17T21:19:47.926Z"
   },
   {
    "duration": 18,
    "start_time": "2025-04-17T21:20:59.130Z"
   },
   {
    "duration": 12,
    "start_time": "2025-04-17T21:21:16.044Z"
   },
   {
    "duration": 42,
    "start_time": "2025-04-17T21:21:59.940Z"
   },
   {
    "duration": 13,
    "start_time": "2025-04-17T21:22:01.255Z"
   },
   {
    "duration": 132,
    "start_time": "2025-04-17T21:22:27.490Z"
   },
   {
    "duration": 11,
    "start_time": "2025-04-17T21:22:41.542Z"
   },
   {
    "duration": 114,
    "start_time": "2025-04-17T21:22:42.291Z"
   },
   {
    "duration": 866,
    "start_time": "2025-04-17T21:22:51.728Z"
   },
   {
    "duration": 489,
    "start_time": "2025-04-17T21:22:52.596Z"
   },
   {
    "duration": 27,
    "start_time": "2025-04-17T21:22:53.087Z"
   },
   {
    "duration": 135,
    "start_time": "2025-04-17T21:22:53.116Z"
   },
   {
    "duration": 64,
    "start_time": "2025-04-17T21:22:53.257Z"
   },
   {
    "duration": 314,
    "start_time": "2025-04-17T21:22:53.323Z"
   },
   {
    "duration": 329,
    "start_time": "2025-04-17T21:22:53.639Z"
   },
   {
    "duration": 279,
    "start_time": "2025-04-17T21:22:53.970Z"
   },
   {
    "duration": 114,
    "start_time": "2025-04-17T21:22:54.251Z"
   },
   {
    "duration": 80,
    "start_time": "2025-04-17T21:22:54.367Z"
   },
   {
    "duration": 35,
    "start_time": "2025-04-17T21:22:54.449Z"
   },
   {
    "duration": 10,
    "start_time": "2025-04-17T21:22:54.486Z"
   },
   {
    "duration": 138,
    "start_time": "2025-04-17T21:22:54.498Z"
   },
   {
    "duration": 2546,
    "start_time": "2025-04-17T21:24:25.346Z"
   },
   {
    "duration": 4,
    "start_time": "2025-04-17T21:26:38.951Z"
   },
   {
    "duration": 103238,
    "start_time": "2025-04-17T21:27:18.366Z"
   },
   {
    "duration": 8,
    "start_time": "2025-04-17T22:06:46.244Z"
   },
   {
    "duration": 108,
    "start_time": "2025-04-17T22:06:53.197Z"
   },
   {
    "duration": 7238,
    "start_time": "2025-04-17T22:08:07.660Z"
   },
   {
    "duration": 9,
    "start_time": "2025-04-17T22:09:31.190Z"
   },
   {
    "duration": 112,
    "start_time": "2025-04-17T22:09:54.427Z"
   },
   {
    "duration": 20,
    "start_time": "2025-04-17T22:16:43.165Z"
   },
   {
    "duration": 67,
    "start_time": "2025-04-17T22:16:50.691Z"
   },
   {
    "duration": 81,
    "start_time": "2025-04-17T22:19:46.103Z"
   },
   {
    "duration": 142,
    "start_time": "2025-04-17T22:21:29.242Z"
   },
   {
    "duration": 6,
    "start_time": "2025-04-17T22:21:48.337Z"
   },
   {
    "duration": 1184,
    "start_time": "2025-04-17T22:21:53.862Z"
   },
   {
    "duration": 501,
    "start_time": "2025-04-17T22:21:55.048Z"
   },
   {
    "duration": 29,
    "start_time": "2025-04-17T22:21:55.554Z"
   },
   {
    "duration": 118,
    "start_time": "2025-04-17T22:21:55.586Z"
   },
   {
    "duration": 83,
    "start_time": "2025-04-17T22:21:55.706Z"
   },
   {
    "duration": 322,
    "start_time": "2025-04-17T22:21:55.791Z"
   },
   {
    "duration": 353,
    "start_time": "2025-04-17T22:21:56.115Z"
   },
   {
    "duration": 353,
    "start_time": "2025-04-17T22:21:56.470Z"
   },
   {
    "duration": 121,
    "start_time": "2025-04-17T22:21:56.824Z"
   },
   {
    "duration": 80,
    "start_time": "2025-04-17T22:21:56.948Z"
   },
   {
    "duration": 54,
    "start_time": "2025-04-17T22:21:57.030Z"
   },
   {
    "duration": 9,
    "start_time": "2025-04-17T22:21:57.086Z"
   },
   {
    "duration": 109,
    "start_time": "2025-04-17T22:21:57.097Z"
   },
   {
    "duration": 102,
    "start_time": "2025-04-17T22:21:57.208Z"
   },
   {
    "duration": 21,
    "start_time": "2025-04-17T22:21:57.312Z"
   },
   {
    "duration": 119,
    "start_time": "2025-04-17T22:21:57.335Z"
   },
   {
    "duration": 680,
    "start_time": "2025-04-17T22:21:57.456Z"
   },
   {
    "duration": 684,
    "start_time": "2025-04-17T22:23:00.075Z"
   },
   {
    "duration": 799,
    "start_time": "2025-04-17T22:23:25.763Z"
   },
   {
    "duration": 655,
    "start_time": "2025-04-17T22:26:27.773Z"
   },
   {
    "duration": 4,
    "start_time": "2025-04-17T22:33:34.485Z"
   },
   {
    "duration": 477,
    "start_time": "2025-04-17T22:33:52.941Z"
   },
   {
    "duration": 30,
    "start_time": "2025-04-17T22:35:03.759Z"
   },
   {
    "duration": 5,
    "start_time": "2025-04-17T22:35:14.892Z"
   },
   {
    "duration": 414,
    "start_time": "2025-04-17T22:35:20.023Z"
   },
   {
    "duration": 380,
    "start_time": "2025-04-17T22:36:34.305Z"
   },
   {
    "duration": 34,
    "start_time": "2025-04-17T22:38:13.850Z"
   },
   {
    "duration": 9,
    "start_time": "2025-04-17T22:38:37.070Z"
   },
   {
    "duration": 191,
    "start_time": "2025-04-17T22:38:45.050Z"
   },
   {
    "duration": 22,
    "start_time": "2025-04-17T22:39:55.507Z"
   },
   {
    "duration": 5,
    "start_time": "2025-04-17T22:40:16.103Z"
   },
   {
    "duration": 11027,
    "start_time": "2025-04-17T22:40:19.515Z"
   },
   {
    "duration": 2452,
    "start_time": "2025-04-17T22:43:13.601Z"
   },
   {
    "duration": 36,
    "start_time": "2025-04-17T22:43:58.961Z"
   },
   {
    "duration": 1146,
    "start_time": "2025-04-17T22:44:06.265Z"
   },
   {
    "duration": 507,
    "start_time": "2025-04-17T22:44:07.414Z"
   },
   {
    "duration": 33,
    "start_time": "2025-04-17T22:44:07.923Z"
   },
   {
    "duration": 122,
    "start_time": "2025-04-17T22:44:07.958Z"
   },
   {
    "duration": 78,
    "start_time": "2025-04-17T22:44:08.084Z"
   },
   {
    "duration": 290,
    "start_time": "2025-04-17T22:44:08.164Z"
   },
   {
    "duration": 324,
    "start_time": "2025-04-17T22:44:08.460Z"
   },
   {
    "duration": 312,
    "start_time": "2025-04-17T22:44:08.786Z"
   },
   {
    "duration": 149,
    "start_time": "2025-04-17T22:44:09.100Z"
   },
   {
    "duration": 93,
    "start_time": "2025-04-17T22:44:09.256Z"
   },
   {
    "duration": 37,
    "start_time": "2025-04-17T22:44:09.355Z"
   },
   {
    "duration": 10,
    "start_time": "2025-04-17T22:44:09.394Z"
   },
   {
    "duration": 111,
    "start_time": "2025-04-17T22:44:09.406Z"
   },
   {
    "duration": 107,
    "start_time": "2025-04-17T22:44:09.521Z"
   },
   {
    "duration": 21,
    "start_time": "2025-04-17T22:44:09.636Z"
   },
   {
    "duration": 120,
    "start_time": "2025-04-17T22:44:09.659Z"
   },
   {
    "duration": 303,
    "start_time": "2025-04-17T22:44:09.783Z"
   },
   {
    "duration": 0,
    "start_time": "2025-04-17T22:44:10.089Z"
   },
   {
    "duration": 0,
    "start_time": "2025-04-17T22:44:10.090Z"
   },
   {
    "duration": 0,
    "start_time": "2025-04-17T22:44:10.091Z"
   },
   {
    "duration": 20,
    "start_time": "2025-04-17T22:48:55.280Z"
   },
   {
    "duration": 754,
    "start_time": "2025-04-17T22:49:00.943Z"
   },
   {
    "duration": 1110,
    "start_time": "2025-04-17T23:12:36.010Z"
   },
   {
    "duration": 514,
    "start_time": "2025-04-17T23:12:37.122Z"
   },
   {
    "duration": 30,
    "start_time": "2025-04-17T23:12:37.638Z"
   },
   {
    "duration": 123,
    "start_time": "2025-04-17T23:12:37.670Z"
   },
   {
    "duration": 80,
    "start_time": "2025-04-17T23:12:37.796Z"
   },
   {
    "duration": 275,
    "start_time": "2025-04-17T23:12:37.878Z"
   },
   {
    "duration": 314,
    "start_time": "2025-04-17T23:12:38.155Z"
   },
   {
    "duration": 282,
    "start_time": "2025-04-17T23:12:38.471Z"
   },
   {
    "duration": 123,
    "start_time": "2025-04-17T23:12:38.755Z"
   },
   {
    "duration": 83,
    "start_time": "2025-04-17T23:12:38.880Z"
   },
   {
    "duration": 36,
    "start_time": "2025-04-17T23:12:38.965Z"
   },
   {
    "duration": 10,
    "start_time": "2025-04-17T23:12:39.003Z"
   },
   {
    "duration": 124,
    "start_time": "2025-04-17T23:12:39.014Z"
   },
   {
    "duration": 91,
    "start_time": "2025-04-17T23:12:39.145Z"
   },
   {
    "duration": 23,
    "start_time": "2025-04-17T23:12:39.239Z"
   },
   {
    "duration": 107,
    "start_time": "2025-04-17T23:12:39.264Z"
   },
   {
    "duration": 740,
    "start_time": "2025-04-17T23:12:39.374Z"
   },
   {
    "duration": 345,
    "start_time": "2025-04-17T23:12:40.116Z"
   },
   {
    "duration": 310,
    "start_time": "2025-04-17T23:12:40.464Z"
   },
   {
    "duration": 10278,
    "start_time": "2025-04-17T23:12:40.777Z"
   },
   {
    "duration": 25379,
    "start_time": "2025-04-17T23:12:51.057Z"
   },
   {
    "duration": 630,
    "start_time": "2025-04-17T23:13:43.297Z"
   },
   {
    "duration": 296,
    "start_time": "2025-04-17T23:13:46.766Z"
   },
   {
    "duration": 188,
    "start_time": "2025-04-17T23:13:47.791Z"
   },
   {
    "duration": 10623,
    "start_time": "2025-04-17T23:13:48.832Z"
   },
   {
    "duration": 21487,
    "start_time": "2025-04-17T23:13:59.460Z"
   },
   {
    "duration": 10299,
    "start_time": "2025-04-17T23:23:21.899Z"
   },
   {
    "duration": 45305,
    "start_time": "2025-04-17T23:24:58.341Z"
   },
   {
    "duration": 1095,
    "start_time": "2025-04-17T23:28:17.195Z"
   },
   {
    "duration": 441,
    "start_time": "2025-04-17T23:28:18.292Z"
   },
   {
    "duration": 26,
    "start_time": "2025-04-17T23:28:18.737Z"
   },
   {
    "duration": 101,
    "start_time": "2025-04-17T23:28:18.766Z"
   },
   {
    "duration": 75,
    "start_time": "2025-04-17T23:28:18.870Z"
   },
   {
    "duration": 240,
    "start_time": "2025-04-17T23:28:18.947Z"
   },
   {
    "duration": 275,
    "start_time": "2025-04-17T23:28:19.190Z"
   },
   {
    "duration": 239,
    "start_time": "2025-04-17T23:28:19.467Z"
   },
   {
    "duration": 118,
    "start_time": "2025-04-17T23:28:19.708Z"
   },
   {
    "duration": 72,
    "start_time": "2025-04-17T23:28:19.828Z"
   },
   {
    "duration": 42,
    "start_time": "2025-04-17T23:28:19.902Z"
   },
   {
    "duration": 10,
    "start_time": "2025-04-17T23:28:19.945Z"
   },
   {
    "duration": 98,
    "start_time": "2025-04-17T23:28:19.959Z"
   },
   {
    "duration": 92,
    "start_time": "2025-04-17T23:28:20.060Z"
   },
   {
    "duration": 25,
    "start_time": "2025-04-17T23:28:20.156Z"
   },
   {
    "duration": 110,
    "start_time": "2025-04-17T23:28:20.183Z"
   },
   {
    "duration": 616,
    "start_time": "2025-04-17T23:28:20.295Z"
   },
   {
    "duration": 451,
    "start_time": "2025-04-17T23:28:20.913Z"
   },
   {
    "duration": 321,
    "start_time": "2025-04-17T23:28:21.366Z"
   },
   {
    "duration": 10187,
    "start_time": "2025-04-17T23:28:21.689Z"
   },
   {
    "duration": 65593,
    "start_time": "2025-04-17T23:28:31.878Z"
   },
   {
    "duration": 65,
    "start_time": "2025-04-17T23:29:37.474Z"
   },
   {
    "duration": 655,
    "start_time": "2025-04-17T23:30:40.159Z"
   },
   {
    "duration": 1148,
    "start_time": "2025-04-17T23:31:14.802Z"
   },
   {
    "duration": 505,
    "start_time": "2025-04-17T23:31:15.952Z"
   },
   {
    "duration": 22,
    "start_time": "2025-04-17T23:31:16.459Z"
   },
   {
    "duration": 110,
    "start_time": "2025-04-17T23:31:16.483Z"
   },
   {
    "duration": 76,
    "start_time": "2025-04-17T23:31:16.596Z"
   },
   {
    "duration": 296,
    "start_time": "2025-04-17T23:31:16.674Z"
   },
   {
    "duration": 316,
    "start_time": "2025-04-17T23:31:16.972Z"
   },
   {
    "duration": 282,
    "start_time": "2025-04-17T23:31:17.289Z"
   },
   {
    "duration": 113,
    "start_time": "2025-04-17T23:31:17.573Z"
   },
   {
    "duration": 85,
    "start_time": "2025-04-17T23:31:17.687Z"
   },
   {
    "duration": 35,
    "start_time": "2025-04-17T23:31:17.774Z"
   },
   {
    "duration": 20,
    "start_time": "2025-04-17T23:31:17.811Z"
   },
   {
    "duration": 117,
    "start_time": "2025-04-17T23:31:17.833Z"
   },
   {
    "duration": 96,
    "start_time": "2025-04-17T23:31:17.954Z"
   },
   {
    "duration": 21,
    "start_time": "2025-04-17T23:31:18.052Z"
   },
   {
    "duration": 120,
    "start_time": "2025-04-17T23:31:18.077Z"
   },
   {
    "duration": 654,
    "start_time": "2025-04-17T23:31:18.199Z"
   },
   {
    "duration": 476,
    "start_time": "2025-04-17T23:31:18.855Z"
   },
   {
    "duration": 273,
    "start_time": "2025-04-17T23:31:19.337Z"
   },
   {
    "duration": 10292,
    "start_time": "2025-04-17T23:31:19.612Z"
   },
   {
    "duration": 54460,
    "start_time": "2025-04-17T23:31:29.906Z"
   },
   {
    "duration": 896,
    "start_time": "2025-04-17T23:38:53.694Z"
   },
   {
    "duration": 440,
    "start_time": "2025-04-17T23:38:54.592Z"
   },
   {
    "duration": 24,
    "start_time": "2025-04-17T23:38:55.033Z"
   },
   {
    "duration": 101,
    "start_time": "2025-04-17T23:38:55.061Z"
   },
   {
    "duration": 74,
    "start_time": "2025-04-17T23:38:55.165Z"
   },
   {
    "duration": 236,
    "start_time": "2025-04-17T23:38:55.241Z"
   },
   {
    "duration": 274,
    "start_time": "2025-04-17T23:38:55.479Z"
   },
   {
    "duration": 293,
    "start_time": "2025-04-17T23:38:55.754Z"
   },
   {
    "duration": 116,
    "start_time": "2025-04-17T23:38:56.049Z"
   },
   {
    "duration": 77,
    "start_time": "2025-04-17T23:38:56.167Z"
   },
   {
    "duration": 40,
    "start_time": "2025-04-17T23:38:56.246Z"
   },
   {
    "duration": 9,
    "start_time": "2025-04-17T23:38:56.288Z"
   },
   {
    "duration": 128,
    "start_time": "2025-04-17T23:38:56.299Z"
   },
   {
    "duration": 107,
    "start_time": "2025-04-17T23:38:56.429Z"
   },
   {
    "duration": 30,
    "start_time": "2025-04-17T23:38:56.538Z"
   },
   {
    "duration": 112,
    "start_time": "2025-04-17T23:38:56.570Z"
   },
   {
    "duration": 640,
    "start_time": "2025-04-17T23:38:56.683Z"
   },
   {
    "duration": 326,
    "start_time": "2025-04-17T23:38:57.332Z"
   },
   {
    "duration": 298,
    "start_time": "2025-04-17T23:38:57.667Z"
   },
   {
    "duration": 10768,
    "start_time": "2025-04-17T23:38:57.967Z"
   },
   {
    "duration": 164,
    "start_time": "2025-04-23T00:12:41.873Z"
   },
   {
    "duration": 861,
    "start_time": "2025-04-23T00:12:48.804Z"
   },
   {
    "duration": 490,
    "start_time": "2025-04-23T00:12:49.668Z"
   },
   {
    "duration": 23,
    "start_time": "2025-04-23T00:12:50.160Z"
   },
   {
    "duration": 107,
    "start_time": "2025-04-23T00:12:50.185Z"
   },
   {
    "duration": 60,
    "start_time": "2025-04-23T00:12:50.296Z"
   },
   {
    "duration": 242,
    "start_time": "2025-04-23T00:12:50.357Z"
   },
   {
    "duration": 271,
    "start_time": "2025-04-23T00:12:50.601Z"
   },
   {
    "duration": 232,
    "start_time": "2025-04-23T00:12:50.874Z"
   },
   {
    "duration": 95,
    "start_time": "2025-04-23T00:12:51.108Z"
   },
   {
    "duration": 71,
    "start_time": "2025-04-23T00:12:51.205Z"
   },
   {
    "duration": 160,
    "start_time": "2025-04-23T00:12:51.277Z"
   },
   {
    "duration": 105,
    "start_time": "2025-04-23T00:12:51.439Z"
   },
   {
    "duration": 512,
    "start_time": "2025-04-23T00:12:51.546Z"
   },
   {
    "duration": 0,
    "start_time": "2025-04-23T00:12:52.060Z"
   },
   {
    "duration": 0,
    "start_time": "2025-04-23T00:12:52.061Z"
   },
   {
    "duration": 0,
    "start_time": "2025-04-23T00:12:52.062Z"
   },
   {
    "duration": 0,
    "start_time": "2025-04-23T00:12:52.070Z"
   },
   {
    "duration": 0,
    "start_time": "2025-04-23T00:12:52.071Z"
   },
   {
    "duration": 0,
    "start_time": "2025-04-23T00:12:52.073Z"
   },
   {
    "duration": 0,
    "start_time": "2025-04-23T00:12:52.074Z"
   },
   {
    "duration": 184,
    "start_time": "2025-04-23T00:15:00.428Z"
   },
   {
    "duration": 15583,
    "start_time": "2025-04-23T00:16:48.674Z"
   },
   {
    "duration": 603,
    "start_time": "2025-04-23T00:18:00.972Z"
   },
   {
    "duration": 14,
    "start_time": "2025-04-23T00:19:17.606Z"
   },
   {
    "duration": 1874,
    "start_time": "2025-04-23T00:20:22.952Z"
   },
   {
    "duration": 936,
    "start_time": "2025-04-23T00:20:27.247Z"
   },
   {
    "duration": 431,
    "start_time": "2025-04-23T00:20:28.186Z"
   },
   {
    "duration": 20,
    "start_time": "2025-04-23T00:20:28.619Z"
   },
   {
    "duration": 105,
    "start_time": "2025-04-23T00:20:28.641Z"
   },
   {
    "duration": 64,
    "start_time": "2025-04-23T00:20:28.749Z"
   },
   {
    "duration": 221,
    "start_time": "2025-04-23T00:20:28.814Z"
   },
   {
    "duration": 253,
    "start_time": "2025-04-23T00:20:29.037Z"
   },
   {
    "duration": 226,
    "start_time": "2025-04-23T00:20:29.292Z"
   },
   {
    "duration": 95,
    "start_time": "2025-04-23T00:20:29.519Z"
   },
   {
    "duration": 71,
    "start_time": "2025-04-23T00:20:29.615Z"
   },
   {
    "duration": 156,
    "start_time": "2025-04-23T00:20:29.689Z"
   },
   {
    "duration": 99,
    "start_time": "2025-04-23T00:20:29.847Z"
   },
   {
    "duration": 250,
    "start_time": "2025-04-23T00:20:29.947Z"
   },
   {
    "duration": 282,
    "start_time": "2025-04-23T00:20:30.202Z"
   },
   {
    "duration": 250,
    "start_time": "2025-04-23T00:20:30.487Z"
   },
   {
    "duration": 0,
    "start_time": "2025-04-23T00:20:30.739Z"
   },
   {
    "duration": 0,
    "start_time": "2025-04-23T00:20:30.740Z"
   },
   {
    "duration": 0,
    "start_time": "2025-04-23T00:20:30.740Z"
   },
   {
    "duration": 0,
    "start_time": "2025-04-23T00:20:30.741Z"
   },
   {
    "duration": 0,
    "start_time": "2025-04-23T00:20:30.742Z"
   },
   {
    "duration": 0,
    "start_time": "2025-04-23T00:20:30.743Z"
   },
   {
    "duration": 0,
    "start_time": "2025-04-23T00:20:30.745Z"
   },
   {
    "duration": 0,
    "start_time": "2025-04-23T00:20:30.746Z"
   },
   {
    "duration": 65,
    "start_time": "2025-04-23T00:23:36.123Z"
   },
   {
    "duration": 1011,
    "start_time": "2025-04-23T00:23:41.700Z"
   },
   {
    "duration": 422,
    "start_time": "2025-04-23T00:23:42.714Z"
   },
   {
    "duration": 20,
    "start_time": "2025-04-23T00:23:43.138Z"
   },
   {
    "duration": 99,
    "start_time": "2025-04-23T00:23:43.160Z"
   },
   {
    "duration": 62,
    "start_time": "2025-04-23T00:23:43.262Z"
   },
   {
    "duration": 231,
    "start_time": "2025-04-23T00:23:43.326Z"
   },
   {
    "duration": 265,
    "start_time": "2025-04-23T00:23:43.559Z"
   },
   {
    "duration": 241,
    "start_time": "2025-04-23T00:23:43.826Z"
   },
   {
    "duration": 91,
    "start_time": "2025-04-23T00:23:44.070Z"
   },
   {
    "duration": 70,
    "start_time": "2025-04-23T00:23:44.162Z"
   },
   {
    "duration": 167,
    "start_time": "2025-04-23T00:23:44.234Z"
   },
   {
    "duration": 106,
    "start_time": "2025-04-23T00:23:44.402Z"
   },
   {
    "duration": 245,
    "start_time": "2025-04-23T00:23:44.510Z"
   },
   {
    "duration": 262,
    "start_time": "2025-04-23T00:23:44.758Z"
   },
   {
    "duration": 235,
    "start_time": "2025-04-23T00:23:45.022Z"
   },
   {
    "duration": 16727,
    "start_time": "2025-04-23T00:23:45.259Z"
   },
   {
    "duration": 16,
    "start_time": "2025-04-23T00:24:01.988Z"
   },
   {
    "duration": 105,
    "start_time": "2025-04-23T00:24:02.005Z"
   },
   {
    "duration": 1238,
    "start_time": "2025-04-23T00:24:02.112Z"
   },
   {
    "duration": 520,
    "start_time": "2025-04-23T00:24:03.351Z"
   },
   {
    "duration": 710,
    "start_time": "2025-04-23T00:24:03.873Z"
   },
   {
    "duration": 10060,
    "start_time": "2025-04-23T00:24:04.585Z"
   },
   {
    "duration": 3928,
    "start_time": "2025-04-23T00:24:14.648Z"
   },
   {
    "duration": 940,
    "start_time": "2025-04-23T00:28:32.837Z"
   },
   {
    "duration": 35,
    "start_time": "2025-04-23T00:30:48.749Z"
   },
   {
    "duration": 13,
    "start_time": "2025-04-23T00:31:20.148Z"
   },
   {
    "duration": 33,
    "start_time": "2025-04-23T00:31:41.265Z"
   },
   {
    "duration": 63,
    "start_time": "2025-04-23T00:31:51.310Z"
   },
   {
    "duration": 1038,
    "start_time": "2025-04-23T00:33:03.773Z"
   },
   {
    "duration": 411,
    "start_time": "2025-04-23T00:33:04.813Z"
   },
   {
    "duration": 21,
    "start_time": "2025-04-23T00:33:05.226Z"
   },
   {
    "duration": 109,
    "start_time": "2025-04-23T00:33:05.249Z"
   },
   {
    "duration": 62,
    "start_time": "2025-04-23T00:33:05.360Z"
   },
   {
    "duration": 247,
    "start_time": "2025-04-23T00:33:05.424Z"
   },
   {
    "duration": 273,
    "start_time": "2025-04-23T00:33:05.673Z"
   },
   {
    "duration": 233,
    "start_time": "2025-04-23T00:33:05.948Z"
   },
   {
    "duration": 103,
    "start_time": "2025-04-23T00:33:06.183Z"
   },
   {
    "duration": 68,
    "start_time": "2025-04-23T00:33:06.288Z"
   },
   {
    "duration": 166,
    "start_time": "2025-04-23T00:33:06.358Z"
   },
   {
    "duration": 100,
    "start_time": "2025-04-23T00:33:06.526Z"
   },
   {
    "duration": 281,
    "start_time": "2025-04-23T00:33:06.628Z"
   },
   {
    "duration": 253,
    "start_time": "2025-04-23T00:33:06.912Z"
   },
   {
    "duration": 234,
    "start_time": "2025-04-23T00:33:07.169Z"
   },
   {
    "duration": 16023,
    "start_time": "2025-04-23T00:33:07.405Z"
   },
   {
    "duration": 79,
    "start_time": "2025-04-23T00:33:23.430Z"
   },
   {
    "duration": 16,
    "start_time": "2025-04-23T00:33:23.511Z"
   },
   {
    "duration": 102,
    "start_time": "2025-04-23T00:33:23.529Z"
   },
   {
    "duration": 1059,
    "start_time": "2025-04-23T00:33:23.633Z"
   },
   {
    "duration": 11,
    "start_time": "2025-04-23T00:33:24.694Z"
   },
   {
    "duration": 11,
    "start_time": "2025-04-23T00:33:24.707Z"
   },
   {
    "duration": 11,
    "start_time": "2025-04-23T00:33:24.720Z"
   },
   {
    "duration": 37,
    "start_time": "2025-04-23T00:33:24.733Z"
   },
   {
    "duration": 124,
    "start_time": "2025-04-23T00:36:07.315Z"
   },
   {
    "duration": 192,
    "start_time": "2025-04-23T00:36:45.692Z"
   },
   {
    "duration": 115,
    "start_time": "2025-04-23T00:36:57.647Z"
   },
   {
    "duration": 145,
    "start_time": "2025-04-23T00:37:03.807Z"
   },
   {
    "duration": 1125,
    "start_time": "2025-04-23T00:38:00.230Z"
   },
   {
    "duration": 187,
    "start_time": "2025-04-23T00:43:32.708Z"
   },
   {
    "duration": 168,
    "start_time": "2025-04-23T00:44:13.450Z"
   },
   {
    "duration": 525,
    "start_time": "2025-04-23T00:49:56.970Z"
   },
   {
    "duration": 1155,
    "start_time": "2025-04-23T00:50:06.753Z"
   },
   {
    "duration": 474,
    "start_time": "2025-04-23T00:50:07.911Z"
   },
   {
    "duration": 21,
    "start_time": "2025-04-23T00:50:08.387Z"
   },
   {
    "duration": 111,
    "start_time": "2025-04-23T00:50:08.410Z"
   },
   {
    "duration": 68,
    "start_time": "2025-04-23T00:50:08.524Z"
   },
   {
    "duration": 238,
    "start_time": "2025-04-23T00:50:08.594Z"
   },
   {
    "duration": 287,
    "start_time": "2025-04-23T00:50:08.833Z"
   },
   {
    "duration": 243,
    "start_time": "2025-04-23T00:50:09.122Z"
   },
   {
    "duration": 87,
    "start_time": "2025-04-23T00:50:09.373Z"
   },
   {
    "duration": 68,
    "start_time": "2025-04-23T00:50:09.462Z"
   },
   {
    "duration": 172,
    "start_time": "2025-04-23T00:50:09.532Z"
   },
   {
    "duration": 101,
    "start_time": "2025-04-23T00:50:09.705Z"
   },
   {
    "duration": 250,
    "start_time": "2025-04-23T00:50:09.807Z"
   },
   {
    "duration": 274,
    "start_time": "2025-04-23T00:50:10.061Z"
   },
   {
    "duration": 248,
    "start_time": "2025-04-23T00:50:10.337Z"
   },
   {
    "duration": 16566,
    "start_time": "2025-04-23T00:50:10.587Z"
   },
   {
    "duration": 21,
    "start_time": "2025-04-23T00:50:27.156Z"
   },
   {
    "duration": 96,
    "start_time": "2025-04-23T00:50:27.179Z"
   },
   {
    "duration": 127,
    "start_time": "2025-04-23T00:50:27.277Z"
   },
   {
    "duration": 142,
    "start_time": "2025-04-23T00:50:27.406Z"
   },
   {
    "duration": 178,
    "start_time": "2025-04-23T00:50:27.550Z"
   },
   {
    "duration": 1128,
    "start_time": "2025-04-23T00:50:27.730Z"
   },
   {
    "duration": 427,
    "start_time": "2025-04-23T00:50:28.860Z"
   },
   {
    "duration": 639,
    "start_time": "2025-04-23T00:50:29.301Z"
   },
   {
    "duration": 7875,
    "start_time": "2025-04-23T00:50:29.942Z"
   },
   {
    "duration": 2163,
    "start_time": "2025-04-23T00:50:37.819Z"
   },
   {
    "duration": 2561,
    "start_time": "2025-04-23T00:53:46.875Z"
   },
   {
    "duration": 172,
    "start_time": "2025-04-23T00:55:48.584Z"
   },
   {
    "duration": 1269,
    "start_time": "2025-04-23T00:56:48.404Z"
   },
   {
    "duration": 2539,
    "start_time": "2025-04-23T00:56:52.744Z"
   },
   {
    "duration": 15,
    "start_time": "2025-04-23T00:57:01.048Z"
   },
   {
    "duration": 14,
    "start_time": "2025-04-23T00:57:34.163Z"
   },
   {
    "duration": 2914,
    "start_time": "2025-04-23T00:58:05.713Z"
   },
   {
    "duration": 2880,
    "start_time": "2025-04-23T00:58:45.990Z"
   },
   {
    "duration": 86976,
    "start_time": "2025-04-23T00:59:15.734Z"
   },
   {
    "duration": 2260,
    "start_time": "2025-04-23T01:00:42.712Z"
   },
   {
    "duration": 1363,
    "start_time": "2025-04-23T01:03:55.413Z"
   },
   {
    "duration": 1246,
    "start_time": "2025-04-23T01:04:44.046Z"
   },
   {
    "duration": 2038,
    "start_time": "2025-04-23T01:04:55.132Z"
   },
   {
    "duration": 2357,
    "start_time": "2025-04-23T01:05:02.655Z"
   },
   {
    "duration": 76089,
    "start_time": "2025-04-23T01:05:08.473Z"
   },
   {
    "duration": 4,
    "start_time": "2025-04-23T01:09:16.795Z"
   },
   {
    "duration": 3,
    "start_time": "2025-04-23T01:13:02.411Z"
   },
   {
    "duration": 1002,
    "start_time": "2025-04-23T01:13:30.147Z"
   },
   {
    "duration": 403,
    "start_time": "2025-04-23T01:13:31.151Z"
   },
   {
    "duration": 24,
    "start_time": "2025-04-23T01:13:31.556Z"
   },
   {
    "duration": 98,
    "start_time": "2025-04-23T01:13:31.582Z"
   },
   {
    "duration": 59,
    "start_time": "2025-04-23T01:13:31.682Z"
   },
   {
    "duration": 244,
    "start_time": "2025-04-23T01:13:31.742Z"
   },
   {
    "duration": 260,
    "start_time": "2025-04-23T01:13:31.989Z"
   },
   {
    "duration": 232,
    "start_time": "2025-04-23T01:13:32.251Z"
   },
   {
    "duration": 92,
    "start_time": "2025-04-23T01:13:32.485Z"
   },
   {
    "duration": 63,
    "start_time": "2025-04-23T01:13:32.578Z"
   },
   {
    "duration": 169,
    "start_time": "2025-04-23T01:13:32.642Z"
   },
   {
    "duration": 102,
    "start_time": "2025-04-23T01:13:32.812Z"
   },
   {
    "duration": 254,
    "start_time": "2025-04-23T01:13:32.916Z"
   },
   {
    "duration": 256,
    "start_time": "2025-04-23T01:13:33.174Z"
   },
   {
    "duration": 232,
    "start_time": "2025-04-23T01:13:33.432Z"
   },
   {
    "duration": 16004,
    "start_time": "2025-04-23T01:13:33.669Z"
   },
   {
    "duration": 16,
    "start_time": "2025-04-23T01:13:49.676Z"
   },
   {
    "duration": 100,
    "start_time": "2025-04-23T01:13:49.694Z"
   },
   {
    "duration": 134,
    "start_time": "2025-04-23T01:13:49.796Z"
   },
   {
    "duration": 142,
    "start_time": "2025-04-23T01:13:49.931Z"
   },
   {
    "duration": 172,
    "start_time": "2025-04-23T01:13:50.075Z"
   },
   {
    "duration": 1176,
    "start_time": "2025-04-23T01:13:50.249Z"
   },
   {
    "duration": 2096,
    "start_time": "2025-04-23T01:13:51.427Z"
   },
   {
    "duration": 2439,
    "start_time": "2025-04-23T01:13:53.527Z"
   },
   {
    "duration": 31207,
    "start_time": "2025-04-23T01:13:55.967Z"
   },
   {
    "duration": 66319,
    "start_time": "2025-04-23T01:14:27.176Z"
   },
   {
    "duration": 179,
    "start_time": "2025-04-23T01:15:33.497Z"
   },
   {
    "duration": 114,
    "start_time": "2025-04-23T01:15:33.678Z"
   },
   {
    "duration": 14,
    "start_time": "2025-04-23T01:19:00.225Z"
   },
   {
    "duration": 5319,
    "start_time": "2025-04-23T01:19:12.073Z"
   },
   {
    "duration": 14,
    "start_time": "2025-04-23T01:22:54.919Z"
   },
   {
    "duration": 1227,
    "start_time": "2025-04-23T01:26:56.464Z"
   },
   {
    "duration": 2713,
    "start_time": "2025-04-23T01:33:03.779Z"
   },
   {
    "duration": 1298,
    "start_time": "2025-04-23T01:33:06.495Z"
   },
   {
    "duration": 1021,
    "start_time": "2025-04-23T01:41:30.981Z"
   },
   {
    "duration": 409,
    "start_time": "2025-04-23T01:41:32.004Z"
   },
   {
    "duration": 21,
    "start_time": "2025-04-23T01:41:32.415Z"
   },
   {
    "duration": 101,
    "start_time": "2025-04-23T01:41:32.437Z"
   },
   {
    "duration": 96,
    "start_time": "2025-04-23T01:41:32.541Z"
   },
   {
    "duration": 232,
    "start_time": "2025-04-23T01:41:32.639Z"
   },
   {
    "duration": 268,
    "start_time": "2025-04-23T01:41:32.873Z"
   },
   {
    "duration": 229,
    "start_time": "2025-04-23T01:41:33.143Z"
   },
   {
    "duration": 87,
    "start_time": "2025-04-23T01:41:33.374Z"
   },
   {
    "duration": 64,
    "start_time": "2025-04-23T01:41:33.471Z"
   },
   {
    "duration": 168,
    "start_time": "2025-04-23T01:41:33.537Z"
   },
   {
    "duration": 97,
    "start_time": "2025-04-23T01:41:33.707Z"
   },
   {
    "duration": 263,
    "start_time": "2025-04-23T01:41:33.805Z"
   },
   {
    "duration": 262,
    "start_time": "2025-04-23T01:41:34.072Z"
   },
   {
    "duration": 238,
    "start_time": "2025-04-23T01:41:34.336Z"
   },
   {
    "duration": 16050,
    "start_time": "2025-04-23T01:41:34.576Z"
   },
   {
    "duration": 23,
    "start_time": "2025-04-23T01:41:50.628Z"
   },
   {
    "duration": 94,
    "start_time": "2025-04-23T01:41:50.652Z"
   },
   {
    "duration": 129,
    "start_time": "2025-04-23T01:41:50.747Z"
   },
   {
    "duration": 142,
    "start_time": "2025-04-23T01:41:50.878Z"
   },
   {
    "duration": 183,
    "start_time": "2025-04-23T01:41:51.022Z"
   },
   {
    "duration": 1190,
    "start_time": "2025-04-23T01:41:51.206Z"
   },
   {
    "duration": 2142,
    "start_time": "2025-04-23T01:41:52.397Z"
   },
   {
    "duration": 2450,
    "start_time": "2025-04-23T01:41:54.541Z"
   },
   {
    "duration": 30754,
    "start_time": "2025-04-23T01:41:56.993Z"
   },
   {
    "duration": 67184,
    "start_time": "2025-04-23T01:42:27.748Z"
   },
   {
    "duration": 5455,
    "start_time": "2025-04-23T01:43:34.934Z"
   },
   {
    "duration": 4390,
    "start_time": "2025-04-23T01:43:40.391Z"
   },
   {
    "duration": 1303,
    "start_time": "2025-04-23T01:43:44.782Z"
   },
   {
    "duration": 3834,
    "start_time": "2025-04-23T19:03:58.477Z"
   },
   {
    "duration": 652,
    "start_time": "2025-04-23T19:04:02.313Z"
   },
   {
    "duration": 29,
    "start_time": "2025-04-23T19:04:02.969Z"
   },
   {
    "duration": 144,
    "start_time": "2025-04-23T19:04:03.000Z"
   },
   {
    "duration": 113,
    "start_time": "2025-04-23T19:04:03.146Z"
   },
   {
    "duration": 339,
    "start_time": "2025-04-23T19:04:03.262Z"
   },
   {
    "duration": 404,
    "start_time": "2025-04-23T19:04:03.603Z"
   },
   {
    "duration": 338,
    "start_time": "2025-04-23T19:04:04.009Z"
   },
   {
    "duration": 140,
    "start_time": "2025-04-23T19:04:04.349Z"
   },
   {
    "duration": 103,
    "start_time": "2025-04-23T19:04:04.490Z"
   },
   {
    "duration": 246,
    "start_time": "2025-04-23T19:04:04.595Z"
   },
   {
    "duration": 147,
    "start_time": "2025-04-23T19:04:04.843Z"
   },
   {
    "duration": 356,
    "start_time": "2025-04-23T19:04:04.991Z"
   },
   {
    "duration": 398,
    "start_time": "2025-04-23T19:04:05.351Z"
   },
   {
    "duration": 397,
    "start_time": "2025-04-23T19:04:05.753Z"
   },
   {
    "duration": 20713,
    "start_time": "2025-04-23T19:04:06.154Z"
   },
   {
    "duration": 25,
    "start_time": "2025-04-23T19:04:26.868Z"
   },
   {
    "duration": 136,
    "start_time": "2025-04-23T19:04:26.897Z"
   },
   {
    "duration": 195,
    "start_time": "2025-04-23T19:04:27.034Z"
   },
   {
    "duration": 210,
    "start_time": "2025-04-23T19:04:27.233Z"
   },
   {
    "duration": 218,
    "start_time": "2025-04-23T19:04:27.445Z"
   },
   {
    "duration": 1557,
    "start_time": "2025-04-23T19:04:27.665Z"
   },
   {
    "duration": 1738,
    "start_time": "2025-04-23T19:04:29.224Z"
   },
   {
    "duration": 13,
    "start_time": "2025-04-23T19:04:30.971Z"
   },
   {
    "duration": 0,
    "start_time": "2025-04-23T19:04:30.987Z"
   },
   {
    "duration": 0,
    "start_time": "2025-04-23T19:04:30.990Z"
   },
   {
    "duration": 0,
    "start_time": "2025-04-23T19:04:30.991Z"
   },
   {
    "duration": 0,
    "start_time": "2025-04-23T19:04:30.992Z"
   },
   {
    "duration": 0,
    "start_time": "2025-04-23T19:04:30.992Z"
   },
   {
    "duration": 352,
    "start_time": "2025-04-23T19:05:24.600Z"
   },
   {
    "duration": 3297,
    "start_time": "2025-04-23T19:05:30.894Z"
   },
   {
    "duration": 41413,
    "start_time": "2025-04-23T19:05:36.021Z"
   },
   {
    "duration": 19028,
    "start_time": "2025-04-23T19:06:29.080Z"
   },
   {
    "duration": 124748,
    "start_time": "2025-04-23T19:06:48.111Z"
   },
   {
    "duration": 124873,
    "start_time": "2025-04-23T19:08:52.860Z"
   },
   {
    "duration": 14,
    "start_time": "2025-04-23T19:10:57.735Z"
   },
   {
    "duration": 0,
    "start_time": "2025-04-23T19:10:57.754Z"
   },
   {
    "duration": 5063,
    "start_time": "2025-04-23T19:12:31.968Z"
   },
   {
    "duration": 2632,
    "start_time": "2025-04-23T19:12:38.113Z"
   },
   {
    "duration": 1103,
    "start_time": "2025-04-23T19:13:32.909Z"
   },
   {
    "duration": 405,
    "start_time": "2025-04-23T19:13:34.014Z"
   },
   {
    "duration": 22,
    "start_time": "2025-04-23T19:13:34.422Z"
   },
   {
    "duration": 107,
    "start_time": "2025-04-23T19:13:34.446Z"
   },
   {
    "duration": 62,
    "start_time": "2025-04-23T19:13:34.556Z"
   },
   {
    "duration": 242,
    "start_time": "2025-04-23T19:13:34.620Z"
   },
   {
    "duration": 268,
    "start_time": "2025-04-23T19:13:34.864Z"
   },
   {
    "duration": 259,
    "start_time": "2025-04-23T19:13:35.134Z"
   },
   {
    "duration": 92,
    "start_time": "2025-04-23T19:13:35.397Z"
   },
   {
    "duration": 73,
    "start_time": "2025-04-23T19:13:35.491Z"
   },
   {
    "duration": 165,
    "start_time": "2025-04-23T19:13:35.566Z"
   },
   {
    "duration": 111,
    "start_time": "2025-04-23T19:13:35.733Z"
   },
   {
    "duration": 273,
    "start_time": "2025-04-23T19:13:35.847Z"
   },
   {
    "duration": 327,
    "start_time": "2025-04-23T19:13:36.126Z"
   },
   {
    "duration": 248,
    "start_time": "2025-04-23T19:13:36.455Z"
   },
   {
    "duration": 16223,
    "start_time": "2025-04-23T19:13:36.705Z"
   },
   {
    "duration": 19,
    "start_time": "2025-04-23T19:13:52.933Z"
   },
   {
    "duration": 119,
    "start_time": "2025-04-23T19:13:52.953Z"
   },
   {
    "duration": 184,
    "start_time": "2025-04-23T19:13:53.074Z"
   },
   {
    "duration": 151,
    "start_time": "2025-04-23T19:13:53.260Z"
   },
   {
    "duration": 169,
    "start_time": "2025-04-23T19:13:53.413Z"
   },
   {
    "duration": 1172,
    "start_time": "2025-04-23T19:13:53.583Z"
   },
   {
    "duration": 2074,
    "start_time": "2025-04-23T19:13:54.760Z"
   },
   {
    "duration": 2288,
    "start_time": "2025-04-23T19:13:56.836Z"
   },
   {
    "duration": 31615,
    "start_time": "2025-04-23T19:13:59.131Z"
   },
   {
    "duration": 68495,
    "start_time": "2025-04-23T19:14:30.748Z"
   },
   {
    "duration": 4890,
    "start_time": "2025-04-23T19:15:39.245Z"
   },
   {
    "duration": 2816,
    "start_time": "2025-04-23T19:15:44.136Z"
   },
   {
    "duration": 54571,
    "start_time": "2025-04-23T19:15:46.953Z"
   }
  ],
  "kernelspec": {
   "display_name": "Python 3 (ipykernel)",
   "language": "python",
   "name": "python3"
  },
  "language_info": {
   "codemirror_mode": {
    "name": "ipython",
    "version": 3
   },
   "file_extension": ".py",
   "mimetype": "text/x-python",
   "name": "python",
   "nbconvert_exporter": "python",
   "pygments_lexer": "ipython3",
   "version": "3.9.19"
  },
  "toc": {
   "base_numbering": 1,
   "nav_menu": {},
   "number_sections": true,
   "sideBar": true,
   "skip_h1_title": true,
   "title_cell": "Table of Contents",
   "title_sidebar": "Contents",
   "toc_cell": false,
   "toc_position": {
    "height": "calc(100% - 180px)",
    "left": "10px",
    "top": "150px",
    "width": "235.6px"
   },
   "toc_section_display": true,
   "toc_window_display": false
  }
 },
 "nbformat": 4,
 "nbformat_minor": 2
}
